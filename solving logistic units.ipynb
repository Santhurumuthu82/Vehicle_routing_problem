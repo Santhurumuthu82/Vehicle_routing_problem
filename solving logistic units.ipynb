{
 "cells": [
  {
   "cell_type": "markdown",
   "metadata": {},
   "source": [
    "Solving logistic Units like based On Traveling Salesman problem"
   ]
  },
  {
   "cell_type": "code",
   "execution_count": 2,
   "metadata": {},
   "outputs": [
    {
     "name": "stdout",
     "output_type": "stream",
     "text": [
      "Requirement already satisfied: matplotlib in c:\\users\\santhuru\\appdata\\local\\programs\\python\\python312\\lib\\site-packages (3.10.0)\n",
      "Requirement already satisfied: deap in c:\\users\\santhuru\\appdata\\local\\programs\\python\\python312\\lib\\site-packages (1.4.1)\n",
      "Requirement already satisfied: contourpy>=1.0.1 in c:\\users\\santhuru\\appdata\\local\\programs\\python\\python312\\lib\\site-packages (from matplotlib) (1.3.1)\n",
      "Requirement already satisfied: cycler>=0.10 in c:\\users\\santhuru\\appdata\\local\\programs\\python\\python312\\lib\\site-packages (from matplotlib) (0.12.1)\n",
      "Requirement already satisfied: fonttools>=4.22.0 in c:\\users\\santhuru\\appdata\\local\\programs\\python\\python312\\lib\\site-packages (from matplotlib) (4.55.3)\n",
      "Requirement already satisfied: kiwisolver>=1.3.1 in c:\\users\\santhuru\\appdata\\local\\programs\\python\\python312\\lib\\site-packages (from matplotlib) (1.4.8)\n",
      "Requirement already satisfied: numpy>=1.23 in c:\\users\\santhuru\\appdata\\local\\programs\\python\\python312\\lib\\site-packages (from matplotlib) (1.26.4)\n",
      "Requirement already satisfied: packaging>=20.0 in c:\\users\\santhuru\\appdata\\local\\programs\\python\\python312\\lib\\site-packages (from matplotlib) (24.1)\n",
      "Requirement already satisfied: pillow>=8 in c:\\users\\santhuru\\appdata\\local\\programs\\python\\python312\\lib\\site-packages (from matplotlib) (10.4.0)\n",
      "Requirement already satisfied: pyparsing>=2.3.1 in c:\\users\\santhuru\\appdata\\local\\programs\\python\\python312\\lib\\site-packages (from matplotlib) (3.2.1)\n",
      "Requirement already satisfied: python-dateutil>=2.7 in c:\\users\\santhuru\\appdata\\local\\programs\\python\\python312\\lib\\site-packages (from matplotlib) (2.9.0.post0)\n",
      "Requirement already satisfied: six>=1.5 in c:\\users\\santhuru\\appdata\\local\\programs\\python\\python312\\lib\\site-packages (from python-dateutil>=2.7->matplotlib) (1.16.0)\n",
      "Note: you may need to restart the kernel to use updated packages.\n"
     ]
    }
   ],
   "source": [
    "%pip install  matplotlib deap\n"
   ]
  },
  {
   "cell_type": "code",
   "execution_count": 1,
   "metadata": {},
   "outputs": [],
   "source": [
    "import matplotlib.pyplot as plt \n",
    "import numpy as np\n",
    "from deap import creator, algorithms , tools, base\n",
    "import random "
   ]
  },
  {
   "cell_type": "code",
   "execution_count": 2,
   "metadata": {},
   "outputs": [
    {
     "name": "stdout",
     "output_type": "stream",
     "text": [
      "[(42, 33), (34, 99), (67, 70), (72, 6), (38, 82), (54, 6), (95, 15), (70, 71), (62, 29), (5, 21)]\n"
     ]
    }
   ],
   "source": [
    "num_locations = 10\n",
    "\n",
    "locations =[\n",
    "    (random.randint(0,100), random.randint(0,100)) for _ in range(num_locations)\n",
    "]\n",
    "print(locations)\n",
    "depot = (50,50)\n",
    "num_vehicles = 3\n"
   ]
  },
  {
   "cell_type": "markdown",
   "metadata": {},
   "source": [
    "# TASK 3 - Genetic Algorithm Setup\n",
    "       # - Figure out how to represent an individual OR encode an individual"
   ]
  },
  {
   "cell_type": "code",
   "execution_count": 3,
   "metadata": {},
   "outputs": [],
   "source": [
    "creator.create(\"FitnessMin\", base.Fitness, weights=(-1.0,-1.0,))\n",
    "creator.create(\"Individual\", list, fitness=creator.FitnessMin)\n"
   ]
  },
  {
   "cell_type": "code",
   "execution_count": 4,
   "metadata": {},
   "outputs": [
    {
     "name": "stdout",
     "output_type": "stream",
     "text": [
      "[6, 7, 9, 2, 3, 0, 4, 1, 8, 5]\n"
     ]
    }
   ],
   "source": [
    "toolsbox = base.Toolbox()\n",
    "toolsbox.register(\"indices\",random.sample, range(num_locations),num_locations)\n",
    "toolsbox.register(\"individual\", tools.initIterate, creator.Individual, toolsbox.indices)\n",
    "toolsbox.register(\"population\", tools.initRepeat, list, toolsbox.individual)\n",
    "print(toolsbox.individual())"
   ]
  },
  {
   "cell_type": "code",
   "execution_count": 5,
   "metadata": {},
   "outputs": [],
   "source": [
    "def evalVRP(individual):\n",
    "    total_distance = 0\n",
    "    distances = []  # Track distance traveled by each vehicle for balance calculation\n",
    "    # Split the list of locations among vehicles, ensuring each starts and ends at the depot\n",
    "    for i in range(num_vehicles):\n",
    "\n",
    "        vehicle_route = [depot] + [locations[individual[j]] for j in range(i, len(individual), num_vehicles)] + [depot]\n",
    "        # print(vehicle_route)\n",
    "        # Calculate total distance traveled by this vehicle\n",
    "        vehicle_distance = 0\n",
    "        for j in range(len(vehicle_route) - 1):\n",
    "            vehicle_distance += np.linalg.norm(np.array(vehicle_route[j]) - np.array(vehicle_route[j + 1]))\n",
    "\n",
    "\n",
    "        total_distance += vehicle_distance\n",
    "        distances.append(vehicle_distance)\n",
    "\n",
    "    balance_penalty = np.std(distances) \n",
    "    # print(total_distance)# Use standard deviation of distances as a penalty for imbalance among vehicles\n",
    "    return total_distance, balance_penalty\n",
    "\n",
    "toolsbox.register(\"evaluate\", evalVRP)\n"
   ]
  },
  {
   "cell_type": "code",
   "execution_count": 6,
   "metadata": {},
   "outputs": [],
   "source": [
    "toolsbox.register(\"mate\", tools.cxOrdered)\n",
    "toolsbox.register(\"mutate\", tools.mutShuffleIndexes, indpb=0.05)\n",
    "toolsbox.register(\"select\", tools.selNSGA2)\n",
    "# toolsbox.register(\"select\", tools.)\n",
    "# toolsbox.register(\"select\", tools.selTournament, tournsize=3)"
   ]
  },
  {
   "cell_type": "code",
   "execution_count": 7,
   "metadata": {},
   "outputs": [],
   "source": [
    "def plot_routes(individual,title=\"vehicle_route\"):\n",
    "    plt.figure()\n",
    "    for (x,y) in locations:\n",
    "        plt.plot(x,y, 'ko')         \n",
    "    for i in range(num_vehicles):\n",
    "        vehicle_route = [depot] + [locations[individual[j]] for j in range(i, len(individual), num_vehicles)] + [depot]\n",
    "        plt.plot(*zip(*vehicle_route), 'b-')\n",
    "    plt.title(title)\n",
    "    plt.xlabel('x')\n",
    "    plt.ylabel('y')\n",
    "    plt.show()\n",
    "\n",
    "            "
   ]
  },
  {
   "cell_type": "code",
   "execution_count": null,
   "metadata": {},
   "outputs": [],
   "source": [
    "def main():\n",
    "    random.seed(32)\n",
    "    pop = toolsbox.population(n=300)\n",
    "    hof = tools.HallOfFame(1)\n",
    "    stats = tools.Statistics(lambda ind: ind.fitness.values)\n",
    "    stats.register(\"avg\", np.mean)\n",
    "    stats.register(\"min\", np.min)\n",
    "    \n",
    "    logbook = tools.Logbook()\n",
    "    logbook.header = ['gen', 'nevals'] + (stats.fields if stats else [])\n",
    "    \n",
    "    pop, log = algorithms.eaSimple(pop, toolsbox, 0.7, 0.2, 300, stats=stats, halloffame=hof, verbose=True)\n",
    "    logbook.record(gen=0, nevals=len(pop), **stats.compile(pop))\n",
    "    \n",
    "    for gen in range(1, 300 + 1):\n",
    "        pop, log = algorithms.eaSimple(pop, toolsbox, 0.7, 0.2, 1, stats=stats, halloffame=hof, verbose=False)\n",
    "        logbook.record(gen=gen, nevals=len(pop), **stats.compile(pop))\n",
    "    \n",
    "    plot_routes(hof[0], \"Optimal Routes\")\n",
    "    \n",
    "    gen = logbook.select(\"gen\")\n",
    "    fit_mins = logbook.select(\"min\")\n",
    "    \n",
    "    plt.figure()\n",
    "    plt.plot(gen, fit_mins, label=\"Minimum Fitness\")\n",
    "    plt.xlabel(\"Generation\")\n",
    "    plt.ylabel(\"Fitness\")\n",
    "    plt.title(\"Fitness Score of the Best Individual Over Generations\")\n",
    "    plt.legend()\n",
    "    plt.show()\n",
    "    \n",
    "    return pop, stats, hof\n",
    "\n",
    "if __name__ == \"__main__\":\n",
    "    main()"
   ]
  },
  {
   "cell_type": "code",
   "execution_count": 8,
   "metadata": {},
   "outputs": [
    {
     "name": "stdout",
     "output_type": "stream",
     "text": [
      "gen\tnevals\tavg    \tmin    \n",
      "0  \t300   \t328.727\t1.89478\n",
      "1  \t227   \t331.28 \t3.15055\n",
      "2  \t225   \t327.959\t3.15055\n",
      "3  \t228   \t330.546\t4.40288\n",
      "4  \t220   \t327.816\t3.85735\n",
      "5  \t234   \t325.23 \t0.695533\n",
      "6  \t231   \t324.164\t2.51881 \n",
      "7  \t232   \t327.652\t2.51881 \n",
      "8  \t227   \t327.458\t5.57718 \n",
      "9  \t214   \t327.607\t2.79477 \n",
      "10 \t224   \t328.101\t2.40281 \n"
     ]
    },
    {
     "data": {
      "image/png": "[encoded data removed]",
      "text/plain": [
       "<Figure size 640x480 with 1 Axes>"
      ]
     },
     "metadata": {},
     "output_type": "display_data"
    }
   ],
   "source": [
    "def main():\n",
    "    random.seed(32)\n",
    "    pop = toolsbox.population(n=300)\n",
    "    hof =tools.HallOfFame(1)\n",
    "    stats = tools.Statistics(lambda ind:ind.fitness.values)\n",
    "    stats.register(\"avg\", np.mean)\n",
    "    stats.register(\"min\",np.min)\n",
    "    \n",
    "    algorithms.eaSimple(pop, toolsbox , 0.7,0.2,10,stats=stats,halloffame=hof)\n",
    "    \n",
    "    plot_routes(hof[0],\"optimal Routes\")\n",
    "    return pop , stats, hof\n",
    "if __name__ == \"__main__\":\n",
    "    main()"
   ]
  },
  {
   "cell_type": "code",
   "execution_count": null,
   "metadata": {},
   "outputs": [],
   "source": []
  }
 ],
 "metadata": {
  "kernelspec": {
   "display_name": "Python 3",
   "language": "python",
   "name": "python3"
  },
  "language_info": {
   "codemirror_mode": {
    "name": "ipython",
    "version": 3
   },
   "file_extension": ".py",
   "mimetype": "text/x-python",
   "name": "python",
   "nbconvert_exporter": "python",
   "pygments_lexer": "ipython3",
   "version": "3.12.3"
  }
 },
 "nbformat": 4,
 "nbformat_minor": 2
}
